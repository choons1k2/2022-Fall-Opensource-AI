{
  "nbformat": 4,
  "nbformat_minor": 0,
  "metadata": {
    "colab": {
      "provenance": [],
      "authorship_tag": "ABX9TyMh8nbKamNwOXS9x9zNdXT7",
      "include_colab_link": true
    },
    "kernelspec": {
      "name": "python3",
      "display_name": "Python 3"
    },
    "language_info": {
      "name": "python"
    }
  },
  "cells": [
    {
      "cell_type": "markdown",
      "metadata": {
        "id": "view-in-github",
        "colab_type": "text"
      },
      "source": [
        "<a href=\"https://colab.research.google.com/github/choons1k2/2022-Fall-Opensource-AI/blob/main/MLP_%EC%B5%9C%EB%AF%BC%EC%84%9C.ipynb\" target=\"_parent\"><img src=\"https://colab.research.google.com/assets/colab-badge.svg\" alt=\"Open In Colab\"/></a>"
      ]
    },
    {
      "cell_type": "code",
      "execution_count": 18,
      "metadata": {
        "colab": {
          "base_uri": "https://localhost:8080/"
        },
        "id": "PYrHAM20koem",
        "outputId": "00398e83-3912-4d26-c0c5-b240da584584"
      },
      "outputs": [
        {
          "output_type": "stream",
          "name": "stdout",
          "text": [
            "Drive already mounted at /content/drive; to attempt to forcibly remount, call drive.mount(\"/content/drive\", force_remount=True).\n"
          ]
        },
        {
          "output_type": "execute_result",
          "data": {
            "text/plain": [
              "Age                  918\n",
              "RestingBP            918\n",
              "Cholesterol          918\n",
              "FastingBS            918\n",
              "MaxHR                918\n",
              "Oldpeak              918\n",
              "HeartDisease         918\n",
              "Sex_F                918\n",
              "Sex_M                918\n",
              "ChestPainType_ASY    918\n",
              "ChestPainType_ATA    918\n",
              "ChestPainType_NAP    918\n",
              "ChestPainType_TA     918\n",
              "RestingECG_LVH       918\n",
              "RestingECG_Normal    918\n",
              "RestingECG_ST        918\n",
              "ExerciseAngina_N     918\n",
              "ExerciseAngina_Y     918\n",
              "ST_Slope_Down        918\n",
              "ST_Slope_Flat        918\n",
              "ST_Slope_Up          918\n",
              "dtype: int64"
            ]
          },
          "metadata": {},
          "execution_count": 18
        }
      ],
      "source": [
        "from google.colab import drive\n",
        "drive.mount('/content/drive')\n",
        "f_path = '/content/heart.csv'\n",
        "\n",
        "import pandas as pd\n",
        "heart = pd.read_csv(f_path)\n",
        "\n",
        "from sklearn.preprocessing import OneHotEncoder\n",
        "\n",
        "heart = pd.get_dummies(heart)\n",
        "heart.count()"
      ]
    },
    {
      "cell_type": "code",
      "source": [
        "x = heart.drop('HeartDisease', axis=1)\n",
        "y = pd.get_dummies(heart[\"HeartDisease\"])\n",
        "\n",
        "\n",
        "from sklearn.model_selection import train_test_split\n",
        "\n",
        "x_train, x_test, y_train, y_test = train_test_split(x, y, test_size = 0.13, random_state = 42)"
      ],
      "metadata": {
        "id": "ui6HvckvYOEs"
      },
      "execution_count": 8,
      "outputs": []
    },
    {
      "cell_type": "code",
      "source": [
        "import keras\n",
        "from keras.models import Sequential\n",
        "from keras.layers import Dense, Dropout, Activation\n",
        "\n",
        "model = Sequential()\n",
        "\n",
        "model.add(Dense(128, activation = \"relu\", input_dim=20))\n",
        "model.add(Dense(16, activation = \"relu\"))\n",
        "\n",
        "model.add(Dense(8, activation = \"relu\"))\n",
        "model.add(Dense(1, activation = \"softmax\"))\n",
        "\n",
        "model.compile(optimizer = \"adam\", loss = \"categorical_crossentropy\", metrics = [\"accuracy\"])\n",
        "\n",
        "model.summary()"
      ],
      "metadata": {
        "colab": {
          "base_uri": "https://localhost:8080/"
        },
        "id": "M88OrbaAeRkz",
        "outputId": "ac8304f3-6b11-4802-9417-8cb1d5c53dfc"
      },
      "execution_count": 31,
      "outputs": [
        {
          "output_type": "stream",
          "name": "stdout",
          "text": [
            "Model: \"sequential_15\"\n",
            "_________________________________________________________________\n",
            " Layer (type)                Output Shape              Param #   \n",
            "=================================================================\n",
            " dense_54 (Dense)            (None, 128)               2688      \n",
            "                                                                 \n",
            " dense_55 (Dense)            (None, 16)                2064      \n",
            "                                                                 \n",
            " dense_56 (Dense)            (None, 8)                 136       \n",
            "                                                                 \n",
            " dense_57 (Dense)            (None, 1)                 9         \n",
            "                                                                 \n",
            "=================================================================\n",
            "Total params: 4,897\n",
            "Trainable params: 4,897\n",
            "Non-trainable params: 0\n",
            "_________________________________________________________________\n"
          ]
        }
      ]
    },
    {
      "cell_type": "code",
      "source": [],
      "metadata": {
        "id": "au9PzFHicXxV"
      },
      "execution_count": null,
      "outputs": []
    }
  ]
}