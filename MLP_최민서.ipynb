{
  "nbformat": 4,
  "nbformat_minor": 0,
  "metadata": {
    "colab": {
      "provenance": [],
      "authorship_tag": "ABX9TyMbFK7tPiXnejaJi4ERPu10",
      "include_colab_link": true
    },
    "kernelspec": {
      "name": "python3",
      "display_name": "Python 3"
    },
    "language_info": {
      "name": "python"
    }
  },
  "cells": [
    {
      "cell_type": "markdown",
      "metadata": {
        "id": "view-in-github",
        "colab_type": "text"
      },
      "source": [
        "<a href=\"https://colab.research.google.com/github/choons1k2/2022-Fall-Opensource-AI/blob/main/MLP_%EC%B5%9C%EB%AF%BC%EC%84%9C.ipynb\" target=\"_parent\"><img src=\"https://colab.research.google.com/assets/colab-badge.svg\" alt=\"Open In Colab\"/></a>"
      ]
    },
    {
      "cell_type": "code",
      "execution_count": 42,
      "metadata": {
        "colab": {
          "base_uri": "https://localhost:8080/"
        },
        "id": "PYrHAM20koem",
        "outputId": "34305b07-b48a-411d-c5d9-80a595c6a434"
      },
      "outputs": [
        {
          "output_type": "stream",
          "name": "stdout",
          "text": [
            "Drive already mounted at /content/drive; to attempt to forcibly remount, call drive.mount(\"/content/drive\", force_remount=True).\n"
          ]
        },
        {
          "output_type": "execute_result",
          "data": {
            "text/plain": [
              "ASY    496\n",
              "NAP    203\n",
              "ATA    173\n",
              "TA      46\n",
              "Name: ChestPainType, dtype: int64"
            ]
          },
          "metadata": {},
          "execution_count": 42
        }
      ],
      "source": [
        "from google.colab import drive\n",
        "drive.mount('/content/drive')\n",
        "\n",
        "f_path = '/content/heart.csv'\n",
        "\n",
        "import pandas as pd\n",
        "heart = pd.read_csv(f_path)\n",
        "\n",
        "heart['Sex'] = heart['Sex'].map({'M':1,'F':0})\n",
        "print(heart['ChestPainType'].value_counts())\n",
        "\n",
        "heart['ChestPainType'] = heart['ChestPainType'].map({'TA':0, 'ATA':1, 'NAP':2, 'ASY':3})"
      ]
    },
    {
      "cell_type": "code",
      "source": [
        "h\n",
        " "
      ],
      "metadata": {
        "colab": {
          "base_uri": "https://localhost:8080/"
        },
        "id": "RvusUofTQKwU",
        "outputId": "94f8e4ec-08e6-45d8-e47e-642119753108"
      },
      "execution_count": 39,
      "outputs": [
        {
          "output_type": "stream",
          "name": "stdout",
          "text": [
            "<class 'pandas.core.frame.DataFrame'>\n",
            "RangeIndex: 918 entries, 0 to 917\n",
            "Data columns (total 12 columns):\n",
            " #   Column          Non-Null Count  Dtype  \n",
            "---  ------          --------------  -----  \n",
            " 0   Age             918 non-null    int64  \n",
            " 1   Sex             918 non-null    int64  \n",
            " 2   ChestPainType   918 non-null    object \n",
            " 3   RestingBP       918 non-null    int64  \n",
            " 4   Cholesterol     918 non-null    int64  \n",
            " 5   FastingBS       918 non-null    int64  \n",
            " 6   RestingECG      918 non-null    object \n",
            " 7   MaxHR           918 non-null    int64  \n",
            " 8   ExerciseAngina  918 non-null    object \n",
            " 9   Oldpeak         918 non-null    float64\n",
            " 10  ST_Slope        918 non-null    object \n",
            " 11  HeartDisease    918 non-null    int64  \n",
            "dtypes: float64(1), int64(7), object(4)\n",
            "memory usage: 86.2+ KB\n"
          ]
        }
      ]
    },
    {
      "cell_type": "code",
      "source": [
        "from sklearn.model_selection import train_test_split\n",
        "\n",
        "df_train, df_test = train_test_split(heart, test_size = 0.13, random_state = 42)"
      ],
      "metadata": {
        "id": "ui6HvckvYOEs"
      },
      "execution_count": 14,
      "outputs": []
    }
  ]
}