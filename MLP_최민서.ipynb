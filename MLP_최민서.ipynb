{
  "nbformat": 4,
  "nbformat_minor": 0,
  "metadata": {
    "colab": {
      "provenance": [],
      "authorship_tag": "ABX9TyMmTw2C6qW3S960clfSmEM0",
      "include_colab_link": true
    },
    "kernelspec": {
      "name": "python3",
      "display_name": "Python 3"
    },
    "language_info": {
      "name": "python"
    }
  },
  "cells": [
    {
      "cell_type": "markdown",
      "metadata": {
        "id": "view-in-github",
        "colab_type": "text"
      },
      "source": [
        "<a href=\"https://colab.research.google.com/github/choons1k2/2022-Fall-Opensource-AI/blob/main/MLP_%EC%B5%9C%EB%AF%BC%EC%84%9C.ipynb\" target=\"_parent\"><img src=\"https://colab.research.google.com/assets/colab-badge.svg\" alt=\"Open In Colab\"/></a>"
      ]
    },
    {
      "cell_type": "code",
      "execution_count": 70,
      "metadata": {
        "colab": {
          "base_uri": "https://localhost:8080/"
        },
        "id": "PYrHAM20koem",
        "outputId": "50cb176c-4189-475b-f525-ea276a05aff0"
      },
      "outputs": [
        {
          "output_type": "stream",
          "name": "stdout",
          "text": [
            "Drive already mounted at /content/drive; to attempt to forcibly remount, call drive.mount(\"/content/drive\", force_remount=True).\n",
            "[1, 0, 0, 0]    496\n",
            "[0, 1, 0, 0]    203\n",
            "[0, 0, 1, 0]    173\n",
            "[0, 0, 0, 1]     46\n",
            "Name: ChestPainType, dtype: int64\n",
            "[1, 0, 0]    552\n",
            "[0, 1, 0]    188\n",
            "[0, 0, 1]    178\n",
            "Name: RestingECG, dtype: int64\n",
            "[1, 0, 0]    460\n",
            "[0, 1, 0]    395\n",
            "[0, 0, 1]     63\n",
            "Name: ST_Slope, dtype: int64\n"
          ]
        }
      ],
      "source": [
        "from google.colab import drive\n",
        "drive.mount('/content/drive')\n",
        "f_path = '/content/heart.csv'\n",
        "\n",
        "import pandas as pd\n",
        "heart = pd.read_csv(f_path)\n",
        "\n",
        "###One-hot encoding\n",
        "heart['Sex'] = heart['Sex'].map({'M':1,'F':0})\n",
        "heart['ChestPainType'] = heart['ChestPainType'].map({'ASY':[1,0,0,0],'NAP':[0,1,0,0],\n",
        "                                                     'ATA':[0,0,1,0],'TA':[0,0,0,1]})\n",
        "heart['ExerciseAngina'] = heart['ExerciseAngina'].map({'Y':1,'N':0})\n",
        "heart['ST_Slope'] = heart['ST_Slope'].map({'Flat':[1,0,0], 'Up':[0,1,0],\n",
        "                                           'Down':[0,0,1]})\n",
        "heart['RestingECG'] = heart['RestingECG'].map({'Normal':[1,0,0], 'LVH':[0,1,0],\n",
        "                                               'ST':[0,0,1]})\n",
        "print(heart['ChestPainType'].value_counts())\n",
        "print(heart['RestingECG'].value_counts())\n",
        "print(heart['ST_Slope'].value_counts())"
      ]
    },
    {
      "cell_type": "code",
      "source": [
        "\n",
        " "
      ],
      "metadata": {
        "colab": {
          "base_uri": "https://localhost:8080/"
        },
        "id": "RvusUofTQKwU",
        "outputId": "94f8e4ec-08e6-45d8-e47e-642119753108"
      },
      "execution_count": 39,
      "outputs": [
        {
          "output_type": "stream",
          "name": "stdout",
          "text": [
            "<class 'pandas.core.frame.DataFrame'>\n",
            "RangeIndex: 918 entries, 0 to 917\n",
            "Data columns (total 12 columns):\n",
            " #   Column          Non-Null Count  Dtype  \n",
            "---  ------          --------------  -----  \n",
            " 0   Age             918 non-null    int64  \n",
            " 1   Sex             918 non-null    int64  \n",
            " 2   ChestPainType   918 non-null    object \n",
            " 3   RestingBP       918 non-null    int64  \n",
            " 4   Cholesterol     918 non-null    int64  \n",
            " 5   FastingBS       918 non-null    int64  \n",
            " 6   RestingECG      918 non-null    object \n",
            " 7   MaxHR           918 non-null    int64  \n",
            " 8   ExerciseAngina  918 non-null    object \n",
            " 9   Oldpeak         918 non-null    float64\n",
            " 10  ST_Slope        918 non-null    object \n",
            " 11  HeartDisease    918 non-null    int64  \n",
            "dtypes: float64(1), int64(7), object(4)\n",
            "memory usage: 86.2+ KB\n"
          ]
        }
      ]
    },
    {
      "cell_type": "code",
      "source": [
        "from sklearn.model_selection import train_test_split\n",
        "\n",
        "df_train, df_test = train_test_split(heart, test_size = 0.13, random_state = 42)"
      ],
      "metadata": {
        "id": "ui6HvckvYOEs"
      },
      "execution_count": 14,
      "outputs": []
    }
  ]
}